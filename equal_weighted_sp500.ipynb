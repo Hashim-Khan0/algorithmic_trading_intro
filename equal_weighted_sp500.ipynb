{
 "cells": [
  {
   "cell_type": "code",
   "execution_count": 29,
   "metadata": {},
   "outputs": [],
   "source": [
    "import numpy as np\n",
    "import pandas as pd\n",
    "import requests as rq\n",
    "import math\n",
    "from scipy import stats\n",
    "import xlsxwriter"
   ]
  },
  {
   "cell_type": "code",
   "execution_count": 30,
   "metadata": {},
   "outputs": [],
   "source": [
    "from secret_case import API_TOKEN"
   ]
  },
  {
   "cell_type": "code",
   "execution_count": 31,
   "metadata": {},
   "outputs": [],
   "source": [
    "stocks = pd.read_csv('sp_500_stocks.csv')"
   ]
  },
  {
   "cell_type": "code",
   "execution_count": 33,
   "metadata": {},
   "outputs": [
    {
     "name": "stdout",
     "output_type": "stream",
     "text": [
      "{'quoteResponse': {'result': [{'language': 'en-US', 'region': 'US', 'quoteType': 'EQUITY', 'typeDisp': 'Equity', 'quoteSourceName': 'Nasdaq Real Time Price', 'triggerable': True, 'customPriceAlertConfidence': 'HIGH', 'currency': 'USD', 'gmtOffSetMilliseconds': -14400000, 'esgPopulated': False, 'messageBoardId': 'finmb_24937', 'longName': 'Apple Inc.', 'exchange': 'NMS', 'shortName': 'Apple Inc.', 'regularMarketPrice': 170.43, 'regularMarketChangePercent': -0.88974994, 'exchangeTimezoneShortName': 'EDT', 'exchangeTimezoneName': 'America/New_York', 'market': 'us_market', 'firstTradeDateMilliseconds': 345479400000, 'priceHint': 2, 'postMarketChangePercent': -0.0234661, 'postMarketTime': 1695859199, 'postMarketPrice': 170.39, 'postMarketChange': -0.0399933, 'regularMarketChange': -1.530014, 'regularMarketTime': 1695844801, 'regularMarketDayHigh': 173.04, 'regularMarketDayRange': '169.05 - 173.04', 'regularMarketDayLow': 169.05, 'regularMarketVolume': 66763827, 'regularMarketPreviousClose': 171.96, 'bid': 170.34, 'ask': 170.39, 'bidSize': 10, 'askSize': 10, 'fullExchangeName': 'NasdaqGS', 'financialCurrency': 'USD', 'regularMarketOpen': 172.62, 'averageDailyVolume3Month': 58400749, 'averageDailyVolume10Day': 64492480, 'marketState': 'PREPRE', 'fiftyTwoWeekLowChange': 46.259995, 'fiftyTwoWeekLowChangePercent': 0.3725537, 'fiftyTwoWeekRange': '124.17 - 198.23', 'fiftyTwoWeekHighChange': -27.800003, 'fiftyTwoWeekHighChangePercent': -0.14024115, 'fiftyTwoWeekLow': 124.17, 'fiftyTwoWeekHigh': 198.23, 'fiftyTwoWeekChangePercent': 19.616783, 'dividendDate': 1692230400, 'earningsTimestamp': 1691096400, 'earningsTimestampStart': 1698231540, 'earningsTimestampEnd': 1698667200, 'trailingAnnualDividendRate': 0.93, 'trailingPE': 28.547739, 'dividendRate': 0.96, 'trailingAnnualDividendYield': 0.0054082344, 'dividendYield': 0.56, 'epsTrailingTwelveMonths': 5.97, 'epsForward': 6.22, 'epsCurrentYear': 5.73, 'priceEpsCurrentYear': 29.743454, 'sharesOutstanding': 15634199552, 'bookValue': 3.852, 'fiftyDayAverage': 182.1924, 'fiftyDayAverageChange': -11.762405, 'fiftyDayAverageChangePercent': -0.064560354, 'twoHundredDayAverage': 165.9458, 'twoHundredDayAverageChange': 4.484192, 'twoHundredDayAverageChangePercent': 0.027022026, 'marketCap': 2664536473600, 'forwardPE': 27.400322, 'priceToBook': 44.244545, 'sourceInterval': 15, 'exchangeDataDelayedBy': 0, 'averageAnalystRating': '2.0 - Buy', 'tradeable': False, 'cryptoTradeable': False, 'displayName': 'Apple', 'symbol': 'AAPL'}], 'error': None}}\n"
     ]
    }
   ],
   "source": [
    "url = \"https://yfapi.net/v6/finance/quote\"\n",
    "\n",
    "querystring = {\"symbols\":\"AAPL\"}\n",
    "\n",
    "headers = {\n",
    "    'x-api-key': API_TOKEN\n",
    "    }\n",
    "\n",
    "response = rq.get(url, headers=headers, params=querystring).json()\n",
    "\n",
    "print(response)"
   ]
  },
  {
   "cell_type": "code",
   "execution_count": 17,
   "metadata": {},
   "outputs": [],
   "source": [
    "def chunks (lst, n):\n",
    "    \"\"\"Yield succisve n-sized chunks form lst\"\"\"\n",
    "    for i in range(0, len(lst), n):\n",
    "        yield lst[i:i + n]"
   ]
  },
  {
   "cell_type": "code",
   "execution_count": 53,
   "metadata": {},
   "outputs": [],
   "source": [
    "my_columns = [ 'Ticker', 'Stock Price', 'Market Capitalization', 'Number of Shared to Buy']\n",
    "dataframes = []\n",
    "rows= []\n",
    "final_dataframe = pd.DataFrame(columns = my_columns)"
   ]
  },
  {
   "cell_type": "code",
   "execution_count": 54,
   "metadata": {},
   "outputs": [],
   "source": [
    "symbol_groups = list(chunks(stocks['Ticker'], 50))\n",
    "symbol_strings = []\n",
    "for i in range(0, len(symbol_groups)):\n",
    "    symbol_strings.append(','.join(symbol_groups[i]))\n",
    "\n",
    "\n",
    "for symbol_string in symbol_strings:\n",
    "    batch_api_url = \"https://yfapi.net/v6/finance/quote\"\n",
    "    \n",
    "    querystring = {\"symbols\":symbol_string}\n",
    "    \n",
    "    headers = {\n",
    "        'x-api-key': API_TOKEN\n",
    "    }\n",
    "\n",
    "    data = rq.get(batch_api_url, headers = headers, params = querystring).json()\n",
    "\n",
    "for result in data.get('quoteResponse', {}).get('result', []):\n",
    "        symbol = result.get('symbol', 'N/A')\n",
    "        regular_market_price = result.get('regularMarketPrice', 'N/A')\n",
    "        market_cap = result.get('marketCap', 'N/A')\n",
    "\n",
    "        rows.append([symbol, regular_market_price, market_cap, 'N/A'])"
   ]
  },
  {
   "cell_type": "code",
   "execution_count": 55,
   "metadata": {},
   "outputs": [],
   "source": [
    "    dataframe = pd.DataFrame(rows, columns = my_columns)\n",
    "    dataframes.append(dataframe)\n",
    "    final_dataframe = pd.concat(dataframes, ignore_index = True)"
   ]
  },
  {
   "cell_type": "code",
   "execution_count": null,
   "metadata": {},
   "outputs": [],
   "source": []
  },
  {
   "cell_type": "code",
   "execution_count": null,
   "metadata": {},
   "outputs": [],
   "source": []
  }
 ],
 "metadata": {
  "kernelspec": {
   "display_name": "myenv",
   "language": "python",
   "name": "python3"
  },
  "language_info": {
   "codemirror_mode": {
    "name": "ipython",
    "version": 3
   },
   "file_extension": ".py",
   "mimetype": "text/x-python",
   "name": "python",
   "nbconvert_exporter": "python",
   "pygments_lexer": "ipython3",
   "version": "3.11.5"
  },
  "orig_nbformat": 4
 },
 "nbformat": 4,
 "nbformat_minor": 2
}
