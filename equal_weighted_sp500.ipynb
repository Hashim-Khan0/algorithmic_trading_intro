{
 "cells": [
  {
   "cell_type": "code",
   "execution_count": 124,
   "metadata": {},
   "outputs": [],
   "source": [
    "import numpy as np\n",
    "import pandas as pd\n",
    "import requests as rq\n",
    "import math\n",
    "from scipy import stats\n",
    "import xlsxwriter"
   ]
  },
  {
   "cell_type": "code",
   "execution_count": 125,
   "metadata": {},
   "outputs": [],
   "source": [
    "from secret_case import API_TOKEN"
   ]
  },
  {
   "cell_type": "code",
   "execution_count": 126,
   "metadata": {},
   "outputs": [],
   "source": [
    "stocks = pd.read_csv('sp_500_stocks.csv')"
   ]
  },
  {
   "cell_type": "code",
   "execution_count": 127,
   "metadata": {},
   "outputs": [
    {
     "name": "stdout",
     "output_type": "stream",
     "text": [
      "{'quoteResponse': {'result': [{'language': 'en-US', 'region': 'US', 'quoteType': 'EQUITY', 'typeDisp': 'Equity', 'quoteSourceName': 'Nasdaq Real Time Price', 'triggerable': True, 'customPriceAlertConfidence': 'HIGH', 'currency': 'USD', 'marketState': 'PREPRE', 'regularMarketChangePercent': -0.88974994, 'regularMarketPrice': 170.43, 'epsTrailingTwelveMonths': 5.97, 'epsForward': 6.22, 'epsCurrentYear': 5.73, 'priceEpsCurrentYear': 29.743454, 'sharesOutstanding': 15634199552, 'bookValue': 3.852, 'fiftyDayAverage': 182.1924, 'fiftyDayAverageChange': -11.762405, 'fiftyDayAverageChangePercent': -0.064560354, 'twoHundredDayAverage': 165.9458, 'twoHundredDayAverageChange': 4.484192, 'twoHundredDayAverageChangePercent': 0.027022026, 'marketCap': 2664536473600, 'forwardPE': 27.400322, 'priceToBook': 44.244545, 'sourceInterval': 15, 'exchangeDataDelayedBy': 0, 'averageAnalystRating': '2.0 - Buy', 'tradeable': False, 'cryptoTradeable': False, 'postMarketChangePercent': -0.0234661, 'postMarketTime': 1695859199, 'postMarketPrice': 170.39, 'postMarketChange': -0.0399933, 'regularMarketChange': -1.530014, 'regularMarketTime': 1695844801, 'regularMarketDayHigh': 173.04, 'regularMarketDayRange': '169.05 - 173.04', 'regularMarketDayLow': 169.05, 'regularMarketVolume': 66763827, 'regularMarketPreviousClose': 171.96, 'bid': 0.0, 'ask': 0.0, 'bidSize': 10, 'askSize': 10, 'fullExchangeName': 'NasdaqGS', 'financialCurrency': 'USD', 'regularMarketOpen': 172.62, 'averageDailyVolume3Month': 58400749, 'averageDailyVolume10Day': 64492480, 'fiftyTwoWeekLowChange': 46.259995, 'fiftyTwoWeekLowChangePercent': 0.3725537, 'fiftyTwoWeekRange': '124.17 - 198.23', 'fiftyTwoWeekHighChange': -27.800003, 'fiftyTwoWeekHighChangePercent': -0.14024115, 'fiftyTwoWeekLow': 124.17, 'fiftyTwoWeekHigh': 198.23, 'fiftyTwoWeekChangePercent': 19.616783, 'dividendDate': 1692230400, 'earningsTimestamp': 1691096400, 'earningsTimestampStart': 1698231540, 'earningsTimestampEnd': 1698667200, 'trailingAnnualDividendRate': 0.93, 'trailingPE': 28.547739, 'dividendRate': 0.96, 'trailingAnnualDividendYield': 0.0054082344, 'dividendYield': 0.56, 'firstTradeDateMilliseconds': 345479400000, 'priceHint': 2, 'exchange': 'NMS', 'shortName': 'Apple Inc.', 'longName': 'Apple Inc.', 'messageBoardId': 'finmb_24937', 'exchangeTimezoneName': 'America/New_York', 'exchangeTimezoneShortName': 'EDT', 'gmtOffSetMilliseconds': -14400000, 'market': 'us_market', 'esgPopulated': False, 'displayName': 'Apple', 'symbol': 'AAPL'}], 'error': None}}\n"
     ]
    }
   ],
   "source": [
    "url = \"https://yfapi.net/v6/finance/quote\"\n",
    "\n",
    "querystring = {\"symbols\":\"AAPL\"}\n",
    "\n",
    "headers = {\n",
    "    'x-api-key': API_TOKEN\n",
    "    }\n",
    "\n",
    "response = rq.get(url, headers=headers, params=querystring).json()\n",
    "\n",
    "print(response)"
   ]
  },
  {
   "cell_type": "code",
   "execution_count": 128,
   "metadata": {},
   "outputs": [],
   "source": [
    "def chunks (lst, n):\n",
    "    \"\"\"Yield succisve n-sized chunks form lst\"\"\"\n",
    "    for i in range(0, len(lst), n):\n",
    "        yield lst[i:i + n]"
   ]
  },
  {
   "cell_type": "code",
   "execution_count": 129,
   "metadata": {},
   "outputs": [],
   "source": [
    "my_columns = ['Ticker', 'Stock Price', 'Market Capitalization', 'Number of Shares to Buy']\n",
    "dataframes = []\n",
    "rows= []"
   ]
  },
  {
   "cell_type": "code",
   "execution_count": 130,
   "metadata": {},
   "outputs": [
    {
     "name": "stdout",
     "output_type": "stream",
     "text": [
      "Processing batch 0 of symbols\n",
      "Processing batch 1 of symbols\n",
      "Processing batch 2 of symbols\n",
      "Processing batch 3 of symbols\n",
      "Processing batch 4 of symbols\n",
      "Processing batch 5 of symbols\n"
     ]
    }
   ],
   "source": [
    "symbol_groups = list(chunks(stocks['Ticker'], 100))\n",
    "symbol_strings = []\n",
    "\n",
    "for i in range(0, len(symbol_groups)):\n",
    "    symbol_strings.append(','.join(symbol_groups[i]))\n",
    "    print(f\"Processing batch {i} of symbols\")"
   ]
  },
  {
   "cell_type": "code",
   "execution_count": 152,
   "metadata": {},
   "outputs": [],
   "source": [
    "dataframes = []\n",
    "\n",
    "for symbol_string in symbol_strings:\n",
    "    batch_api_url = \"https://yfapi.net/v6/finance/quote\"\n",
    "    \n",
    "    querystring = {\"symbols\": symbol_string}\n",
    "    \n",
    "    headers = {\n",
    "        'x-api-key': API_TOKEN\n",
    "    }\n",
    "\n",
    "    data = rq.get(batch_api_url, headers=headers, params=querystring).json()\n",
    "\n",
    "    rows = []\n",
    "    for result in data.get('quoteResponse', {}).get('result', []):\n",
    "        symbol = result.get('symbol', np.nan)\n",
    "        regular_market_price = float(result.get('regularMarketPrice', np.nan))\n",
    "        market_cap = float(result.get('marketCap', np.nan))\n",
    "\n",
    "        rows.append([symbol, regular_market_price, market_cap, np.nan])\n",
    "\n",
    "    dataframe = pd.DataFrame(rows, columns=my_columns)\n",
    "    dataframes.append(dataframe)\n",
    "\n",
    "final_dataframe = pd.concat(dataframes, ignore_index=True)"
   ]
  },
  {
   "cell_type": "code",
   "execution_count": 153,
   "metadata": {},
   "outputs": [
    {
     "data": {
      "text/html": [
       "<div>\n",
       "<style scoped>\n",
       "    .dataframe tbody tr th:only-of-type {\n",
       "        vertical-align: middle;\n",
       "    }\n",
       "\n",
       "    .dataframe tbody tr th {\n",
       "        vertical-align: top;\n",
       "    }\n",
       "\n",
       "    .dataframe thead th {\n",
       "        text-align: right;\n",
       "    }\n",
       "</style>\n",
       "<table border=\"1\" class=\"dataframe\">\n",
       "  <thead>\n",
       "    <tr style=\"text-align: right;\">\n",
       "      <th></th>\n",
       "      <th>Ticker</th>\n",
       "      <th>Stock Price</th>\n",
       "      <th>Market Capitalization</th>\n",
       "      <th>Number of Shares to Buy</th>\n",
       "    </tr>\n",
       "  </thead>\n",
       "  <tbody>\n",
       "    <tr>\n",
       "      <th>0</th>\n",
       "      <td>A</td>\n",
       "      <td>110.50</td>\n",
       "      <td>3.233086e+10</td>\n",
       "      <td>NaN</td>\n",
       "    </tr>\n",
       "    <tr>\n",
       "      <th>1</th>\n",
       "      <td>AAL</td>\n",
       "      <td>12.61</td>\n",
       "      <td>8.238895e+09</td>\n",
       "      <td>NaN</td>\n",
       "    </tr>\n",
       "    <tr>\n",
       "      <th>2</th>\n",
       "      <td>AAP</td>\n",
       "      <td>54.82</td>\n",
       "      <td>3.260162e+09</td>\n",
       "      <td>NaN</td>\n",
       "    </tr>\n",
       "    <tr>\n",
       "      <th>3</th>\n",
       "      <td>AAPL</td>\n",
       "      <td>170.43</td>\n",
       "      <td>2.664536e+12</td>\n",
       "      <td>NaN</td>\n",
       "    </tr>\n",
       "    <tr>\n",
       "      <th>4</th>\n",
       "      <td>ABBV</td>\n",
       "      <td>153.13</td>\n",
       "      <td>2.702821e+11</td>\n",
       "      <td>NaN</td>\n",
       "    </tr>\n",
       "  </tbody>\n",
       "</table>\n",
       "</div>"
      ],
      "text/plain": [
       "  Ticker  Stock Price  Market Capitalization  Number of Shares to Buy\n",
       "0      A       110.50           3.233086e+10                      NaN\n",
       "1    AAL        12.61           8.238895e+09                      NaN\n",
       "2    AAP        54.82           3.260162e+09                      NaN\n",
       "3   AAPL       170.43           2.664536e+12                      NaN\n",
       "4   ABBV       153.13           2.702821e+11                      NaN"
      ]
     },
     "execution_count": 153,
     "metadata": {},
     "output_type": "execute_result"
    }
   ],
   "source": [
    "numeric_columns = final_dataframe.columns.difference(['Ticker', 'Number of Shares to Buy'])\n",
    "final_dataframe[numeric_columns] = final_dataframe[numeric_columns].fillna(-1).astype(float)\n",
    "final_dataframe.head()"
   ]
  },
  {
   "cell_type": "code",
   "execution_count": 154,
   "metadata": {},
   "outputs": [],
   "source": [
    "portfolio_size = input('Enter the value of your portfolio:')\n",
    "\n",
    "try:\n",
    "    val = float(portfolio_size)\n",
    "except ValueError:\n",
    "    print(\"That is not a number! \\nPlease try again:\")\n",
    "    portfolio_size = input('Enter the value of your portfolio:')\n",
    "    val = float(portfolio_size)"
   ]
  },
  {
   "cell_type": "code",
   "execution_count": 155,
   "metadata": {},
   "outputs": [
    {
     "data": {
      "text/html": [
       "<div>\n",
       "<style scoped>\n",
       "    .dataframe tbody tr th:only-of-type {\n",
       "        vertical-align: middle;\n",
       "    }\n",
       "\n",
       "    .dataframe tbody tr th {\n",
       "        vertical-align: top;\n",
       "    }\n",
       "\n",
       "    .dataframe thead th {\n",
       "        text-align: right;\n",
       "    }\n",
       "</style>\n",
       "<table border=\"1\" class=\"dataframe\">\n",
       "  <thead>\n",
       "    <tr style=\"text-align: right;\">\n",
       "      <th></th>\n",
       "      <th>Ticker</th>\n",
       "      <th>Stock Price</th>\n",
       "      <th>Market Capitalization</th>\n",
       "      <th>Number of Shares to Buy</th>\n",
       "    </tr>\n",
       "  </thead>\n",
       "  <tbody>\n",
       "    <tr>\n",
       "      <th>0</th>\n",
       "      <td>A</td>\n",
       "      <td>110.50</td>\n",
       "      <td>3.233086e+10</td>\n",
       "      <td>179559.0</td>\n",
       "    </tr>\n",
       "    <tr>\n",
       "      <th>1</th>\n",
       "      <td>AAL</td>\n",
       "      <td>12.61</td>\n",
       "      <td>8.238895e+09</td>\n",
       "      <td>1573455.0</td>\n",
       "    </tr>\n",
       "    <tr>\n",
       "      <th>2</th>\n",
       "      <td>AAP</td>\n",
       "      <td>54.82</td>\n",
       "      <td>3.260162e+09</td>\n",
       "      <td>361934.0</td>\n",
       "    </tr>\n",
       "    <tr>\n",
       "      <th>3</th>\n",
       "      <td>AAPL</td>\n",
       "      <td>170.43</td>\n",
       "      <td>2.664536e+12</td>\n",
       "      <td>116418.0</td>\n",
       "    </tr>\n",
       "    <tr>\n",
       "      <th>4</th>\n",
       "      <td>ABBV</td>\n",
       "      <td>153.13</td>\n",
       "      <td>2.702821e+11</td>\n",
       "      <td>129571.0</td>\n",
       "    </tr>\n",
       "    <tr>\n",
       "      <th>...</th>\n",
       "      <td>...</td>\n",
       "      <td>...</td>\n",
       "      <td>...</td>\n",
       "      <td>...</td>\n",
       "    </tr>\n",
       "    <tr>\n",
       "      <th>499</th>\n",
       "      <td>YUM</td>\n",
       "      <td>121.98</td>\n",
       "      <td>3.418014e+10</td>\n",
       "      <td>162660.0</td>\n",
       "    </tr>\n",
       "    <tr>\n",
       "      <th>500</th>\n",
       "      <td>ZBH</td>\n",
       "      <td>110.76</td>\n",
       "      <td>2.314485e+10</td>\n",
       "      <td>179137.0</td>\n",
       "    </tr>\n",
       "    <tr>\n",
       "      <th>501</th>\n",
       "      <td>ZBRA</td>\n",
       "      <td>225.91</td>\n",
       "      <td>1.159786e+10</td>\n",
       "      <td>87828.0</td>\n",
       "    </tr>\n",
       "    <tr>\n",
       "      <th>502</th>\n",
       "      <td>ZION</td>\n",
       "      <td>33.17</td>\n",
       "      <td>4.913969e+09</td>\n",
       "      <td>598169.0</td>\n",
       "    </tr>\n",
       "    <tr>\n",
       "      <th>503</th>\n",
       "      <td>ZTS</td>\n",
       "      <td>174.68</td>\n",
       "      <td>8.040817e+10</td>\n",
       "      <td>113586.0</td>\n",
       "    </tr>\n",
       "  </tbody>\n",
       "</table>\n",
       "<p>504 rows × 4 columns</p>\n",
       "</div>"
      ],
      "text/plain": [
       "    Ticker  Stock Price  Market Capitalization  Number of Shares to Buy\n",
       "0        A       110.50           3.233086e+10                 179559.0\n",
       "1      AAL        12.61           8.238895e+09                1573455.0\n",
       "2      AAP        54.82           3.260162e+09                 361934.0\n",
       "3     AAPL       170.43           2.664536e+12                 116418.0\n",
       "4     ABBV       153.13           2.702821e+11                 129571.0\n",
       "..     ...          ...                    ...                      ...\n",
       "499    YUM       121.98           3.418014e+10                 162660.0\n",
       "500    ZBH       110.76           2.314485e+10                 179137.0\n",
       "501   ZBRA       225.91           1.159786e+10                  87828.0\n",
       "502   ZION        33.17           4.913969e+09                 598169.0\n",
       "503    ZTS       174.68           8.040817e+10                 113586.0\n",
       "\n",
       "[504 rows x 4 columns]"
      ]
     },
     "execution_count": 155,
     "metadata": {},
     "output_type": "execute_result"
    }
   ],
   "source": [
    "position_size = val / len(final_dataframe.index)\n",
    "for i in range(0, len(final_dataframe.index)):\n",
    "    final_dataframe.loc[i, 'Number of Shares to Buy'] =  math.floor(position_size / final_dataframe.loc[i, 'Stock Price'])\n",
    "\n",
    "final_dataframe"
   ]
  },
  {
   "cell_type": "code",
   "execution_count": 157,
   "metadata": {},
   "outputs": [],
   "source": [
    "writer = pd.ExcelWriter('reccomended trades.xlsx', engine = 'xlsxwriter')\n",
    "final_dataframe.to_excel(writer, 'Reccomended Trades', index = False)"
   ]
  },
  {
   "cell_type": "code",
   "execution_count": 158,
   "metadata": {},
   "outputs": [],
   "source": [
    "background_color = '#0a0a23'\n",
    "font_color = '#ffffff'\n",
    "\n",
    "string_format = writer.book.add_format(\n",
    "        {\n",
    "            'font_color': font_color,\n",
    "            'bg_color': background_color,\n",
    "            'border': 1\n",
    "        }\n",
    "    )\n",
    "\n",
    "dollar_format = writer.book.add_format(\n",
    "        {\n",
    "            'num_format':'$0.00',\n",
    "            'font_color': font_color,\n",
    "            'bg_color': background_color,\n",
    "            'border': 1\n",
    "        }\n",
    "    )\n",
    "\n",
    "integer_format = writer.book.add_format(\n",
    "        {\n",
    "            'num_format':'0',\n",
    "            'font_color': font_color,\n",
    "            'bg_color': background_color,\n",
    "            'border': 1\n",
    "        }\n",
    "    )"
   ]
  },
  {
   "cell_type": "code",
   "execution_count": 159,
   "metadata": {},
   "outputs": [],
   "source": [
    "column_formats = {\n",
    "    'A': ['Ticker', string_format],\n",
    "    'B': ['Stock Price', dollar_format],\n",
    "    'C': ['Market Capitalization', dollar_format],\n",
    "    'D': ['Number of Shares to Buy', integer_format]\n",
    "}\n",
    "\n",
    "for column in column_formats.keys():\n",
    "    writer.sheets['Reccomended Trades'].set_column(f'{column}:{column}', 18, column_formats[column][1])"
   ]
  },
  {
   "cell_type": "code",
   "execution_count": 161,
   "metadata": {},
   "outputs": [],
   "source": [
    "writer.close()"
   ]
  },
  {
   "cell_type": "code",
   "execution_count": null,
   "metadata": {},
   "outputs": [],
   "source": []
  }
 ],
 "metadata": {
  "kernelspec": {
   "display_name": "myenv",
   "language": "python",
   "name": "python3"
  },
  "language_info": {
   "codemirror_mode": {
    "name": "ipython",
    "version": 3
   },
   "file_extension": ".py",
   "mimetype": "text/x-python",
   "name": "python",
   "nbconvert_exporter": "python",
   "pygments_lexer": "ipython3",
   "version": "3.11.5"
  },
  "orig_nbformat": 4
 },
 "nbformat": 4,
 "nbformat_minor": 2
}
