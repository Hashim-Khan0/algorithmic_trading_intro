{
 "cells": [
  {
   "cell_type": "code",
   "execution_count": 2,
   "metadata": {},
   "outputs": [],
   "source": [
    "import numpy as np\n",
    "import pandas as pd\n",
    "import requests as rq\n",
    "import math\n",
    "from scipy import stats\n",
    "import xlsxwriter"
   ]
  },
  {
   "cell_type": "code",
   "execution_count": 1,
   "metadata": {},
   "outputs": [],
   "source": [
    "from secret_case import API_TOKEN"
   ]
  },
  {
   "cell_type": "code",
   "execution_count": 3,
   "metadata": {},
   "outputs": [],
   "source": [
    "stocks = pd.read_csv('sp_500_stocks.csv')"
   ]
  },
  {
   "cell_type": "code",
   "execution_count": 10,
   "metadata": {},
   "outputs": [
    {
     "name": "stdout",
     "output_type": "stream",
     "text": [
      "{'quoteResponse': {'result': [{'language': 'en-US', 'region': 'US', 'quoteType': 'EQUITY', 'typeDisp': 'Equity', 'quoteSourceName': 'Nasdaq Real Time Price', 'triggerable': True, 'customPriceAlertConfidence': 'HIGH', 'currency': 'USD', 'marketState': 'POSTPOST', 'regularMarketChangePercent': -0.88974994, 'regularMarketPrice': 170.43, 'epsTrailingTwelveMonths': 5.97, 'epsForward': 6.22, 'epsCurrentYear': 5.73, 'priceEpsCurrentYear': 29.743454, 'sharesOutstanding': 15634199552, 'bookValue': 3.852, 'fiftyDayAverage': 182.1924, 'fiftyDayAverageChange': -11.762405, 'fiftyDayAverageChangePercent': -0.064560354, 'twoHundredDayAverage': 165.9458, 'twoHundredDayAverageChange': 4.484192, 'twoHundredDayAverageChangePercent': 0.027022026, 'marketCap': 2664536473600, 'forwardPE': 27.400322, 'priceToBook': 44.244545, 'sourceInterval': 15, 'exchangeDataDelayedBy': 0, 'averageAnalystRating': '2.0 - Buy', 'tradeable': False, 'cryptoTradeable': False, 'postMarketChangePercent': -0.0234661, 'postMarketTime': 1695859199, 'postMarketPrice': 170.39, 'postMarketChange': -0.0399933, 'regularMarketChange': -1.530014, 'regularMarketTime': 1695844801, 'regularMarketDayHigh': 173.04, 'regularMarketDayRange': '169.05 - 173.04', 'regularMarketDayLow': 169.05, 'regularMarketVolume': 66763827, 'regularMarketPreviousClose': 171.96, 'bid': 170.34, 'ask': 170.39, 'bidSize': 10, 'askSize': 10, 'fullExchangeName': 'NasdaqGS', 'financialCurrency': 'USD', 'regularMarketOpen': 172.62, 'averageDailyVolume3Month': 58400749, 'averageDailyVolume10Day': 64492480, 'fiftyTwoWeekLowChange': 46.259995, 'fiftyTwoWeekLowChangePercent': 0.3725537, 'fiftyTwoWeekRange': '124.17 - 198.23', 'fiftyTwoWeekHighChange': -27.800003, 'fiftyTwoWeekHighChangePercent': -0.14024115, 'fiftyTwoWeekLow': 124.17, 'fiftyTwoWeekHigh': 198.23, 'fiftyTwoWeekChangePercent': 19.616783, 'dividendDate': 1692230400, 'earningsTimestamp': 1691096400, 'earningsTimestampStart': 1698231540, 'earningsTimestampEnd': 1698667200, 'trailingAnnualDividendRate': 0.93, 'trailingPE': 28.547739, 'dividendRate': 0.96, 'trailingAnnualDividendYield': 0.0054082344, 'dividendYield': 0.56, 'firstTradeDateMilliseconds': 345479400000, 'priceHint': 2, 'exchange': 'NMS', 'shortName': 'Apple Inc.', 'longName': 'Apple Inc.', 'messageBoardId': 'finmb_24937', 'exchangeTimezoneName': 'America/New_York', 'exchangeTimezoneShortName': 'EDT', 'gmtOffSetMilliseconds': -14400000, 'market': 'us_market', 'esgPopulated': False, 'displayName': 'Apple', 'symbol': 'AAPL'}, {'language': 'en-US', 'region': 'US', 'quoteType': 'CRYPTOCURRENCY', 'typeDisp': 'Cryptocurrency', 'quoteSourceName': 'CoinMarketCap', 'triggerable': True, 'customPriceAlertConfidence': 'HIGH', 'currency': 'USD', 'marketState': 'REGULAR', 'regularMarketChangePercent': 0.33776358, 'regularMarketPrice': 26354.17, 'fiftyDayAverage': 26820.436, 'fiftyDayAverageChange': -466.26562, 'fiftyDayAverageChangePercent': -0.017384715, 'twoHundredDayAverage': 27928.412, 'twoHundredDayAverageChange': -1574.2422, 'twoHundredDayAverageChangePercent': -0.05636705, 'marketCap': 513849950208, 'sourceInterval': 15, 'exchangeDataDelayedBy': 0, 'tradeable': False, 'cryptoTradeable': True, 'regularMarketChange': 88.7168, 'regularMarketTime': 1695873300, 'regularMarketDayHigh': 26514.086, 'regularMarketDayRange': '26328.014 - 26514.086', 'regularMarketDayLow': 26328.014, 'regularMarketVolume': 12433766400, 'regularMarketPreviousClose': 26365.086, 'fullExchangeName': 'CCC', 'regularMarketOpen': 26365.086, 'averageDailyVolume3Month': 12840323860, 'averageDailyVolume10Day': 11100944730, 'startDate': 1278979200, 'coinImageUrl': 'https://s2.coinmarketcap.com/static/img/coins/64x64/1.png', 'logoUrl': 'https://s2.coinmarketcap.com/static/img/coins/64x64/1.png', 'fiftyTwoWeekLowChange': 10755.123, 'fiftyTwoWeekLowChangePercent': 0.6894731, 'fiftyTwoWeekRange': '15599.047 - 31814.516', 'fiftyTwoWeekHighChange': -5460.3457, 'fiftyTwoWeekHighChangePercent': -0.17163064, 'fiftyTwoWeekLow': 15599.047, 'fiftyTwoWeekHigh': 31814.516, 'fiftyTwoWeekChangePercent': 33.945644, 'firstTradeDateMilliseconds': 1410912000000, 'priceHint': 2, 'circulatingSupply': 19497862, 'lastMarket': 'CoinMarketCap', 'volume24Hr': 12433766400, 'volumeAllCurrencies': 12433766400, 'fromCurrency': 'BTC', 'toCurrency': 'USD=X', 'coinMarketCapLink': 'https://coinmarketcap.com/currencies/bitcoin', 'exchange': 'CCC', 'shortName': 'Bitcoin USD', 'longName': 'Bitcoin USD', 'messageBoardId': 'finmb_BTC_CCC', 'exchangeTimezoneName': 'UTC', 'exchangeTimezoneShortName': 'UTC', 'gmtOffSetMilliseconds': 0, 'market': 'ccc_market', 'esgPopulated': False, 'symbol': 'BTC-USD'}, {'language': 'en-US', 'region': 'US', 'quoteType': 'CURRENCY', 'typeDisp': 'Currency', 'quoteSourceName': 'Delayed Quote', 'triggerable': True, 'customPriceAlertConfidence': 'HIGH', 'currency': 'USD', 'regularMarketChangePercent': -0.010502993, 'regularMarketPrice': 1.0507513, 'fiftyDayAverage': 1.0858449, 'twoHundredDayAverage': 1.0830247, 'regularMarketChange': -0.0001103878, 'regularMarketDayHigh': 1.0518565, 'regularMarketDayLow': 1.0501995, 'regularMarketPreviousClose': 1.0508617, 'bid': 1.0507513, 'ask': 1.0501995, 'regularMarketOpen': 1.0508617, 'fiftyTwoWeekLow': 0.96359533, 'fiftyTwoWeekHigh': 1.1275737, 'shortName': 'EUR/USD', 'longName': 'EUR/USD', 'marketState': 'REGULAR', 'fiftyDayAverageChange': 0.030758142, 'fiftyDayAverageChangePercent': 0.028326461, 'twoHundredDayAverageChange': 0.028360069, 'twoHundredDayAverageChangePercent': 0.026185984, 'sourceInterval': 15, 'exchangeDataDelayedBy': 0, 'tradeable': False, 'cryptoTradeable': False, 'regularMarketTime': 1695873436, 'regularMarketDayRange': '1.0501995 - 1.0518565', 'regularMarketVolume': 0, 'bidSize': 0, 'askSize': 0, 'fullExchangeName': 'CCY', 'averageDailyVolume3Month': 0, 'averageDailyVolume10Day': 0, 'fiftyTwoWeekLowChange': 0.06483996, 'fiftyTwoWeekLowChangePercent': 0.06728961, 'fiftyTwoWeekRange': '0.96359533 - 1.1275737', 'fiftyTwoWeekHighChange': -0.086080074, 'fiftyTwoWeekHighChangePercent': -0.07634097, 'fiftyTwoWeekChangePercent': -8.14904, 'firstTradeDateMilliseconds': 1070236800000, 'priceHint': 4, 'exchange': 'CCY', 'messageBoardId': 'finmb_EUR_X', 'exchangeTimezoneName': 'Europe/London', 'exchangeTimezoneShortName': 'BST', 'gmtOffSetMilliseconds': 3600000, 'market': 'ccy_market', 'esgPopulated': False, 'symbol': 'EURUSD=X'}], 'error': None}}\n"
     ]
    }
   ],
   "source": [
    "url = \"https://yfapi.net/v6/finance/quote\"\n",
    "\n",
    "querystring = {\"symbols\":\"AAPL,BTC-USD,EURUSD=X\"}\n",
    "\n",
    "headers = {\n",
    "    'x-api-key': API_TOKEN\n",
    "    }\n",
    "\n",
    "response = rq.get(url, headers=headers, params=querystring).json()\n",
    "\n",
    "print(response)"
   ]
  },
  {
   "cell_type": "code",
   "execution_count": null,
   "metadata": {},
   "outputs": [],
   "source": []
  }
 ],
 "metadata": {
  "kernelspec": {
   "display_name": "myenv",
   "language": "python",
   "name": "python3"
  },
  "language_info": {
   "codemirror_mode": {
    "name": "ipython",
    "version": 3
   },
   "file_extension": ".py",
   "mimetype": "text/x-python",
   "name": "python",
   "nbconvert_exporter": "python",
   "pygments_lexer": "ipython3",
   "version": "3.11.5"
  },
  "orig_nbformat": 4
 },
 "nbformat": 4,
 "nbformat_minor": 2
}
